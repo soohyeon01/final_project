{
 "cells": [
  {
   "cell_type": "code",
   "execution_count": 15,
   "id": "a8317d5a-c400-4a9a-82a4-4d6541c212fa",
   "metadata": {},
   "outputs": [],
   "source": [
    "#[출처] [#3] 파이썬 웹 스크래핑 도전(BeautifulSoup 이용)|작성자 Junho Kim\n",
    "from bs4 import BeautifulSoup\n",
    "import requests\n",
    "import pandas as pd\n",
    "from datetime import datetime"
   ]
  },
  {
   "cell_type": "code",
   "execution_count": 16,
   "id": "1c5978b0-5faa-4559-b356-06b9eaea8293",
   "metadata": {},
   "outputs": [],
   "source": [
    "url='https://search.naver.com/search.naver?where=news&sm=tab_pge&query=%EC%97%98%EC%A7%80%ED%8A%B8%EC%9C%88%EC%8A%A4&sort=1&photo=0&field=0&pd=0&ds=&de=&mynews=0&office_type=0&office_section_code=0&news_office_checked=&office_category=0&service_area=0&nso=so:dd,p:all,a:all&start=0'\n",
    "html=requests.get(url)"
   ]
  },
  {
   "cell_type": "code",
   "execution_count": 17,
   "id": "f9c26f44-793d-490d-ac7b-f72993112a2c",
   "metadata": {},
   "outputs": [],
   "source": [
    "soup=BeautifulSoup(html.content, 'html.parser')"
   ]
  },
  {
   "cell_type": "code",
   "execution_count": 18,
   "id": "c27c687a-e485-41a1-85e7-8b6e3c9c7808",
   "metadata": {},
   "outputs": [
    {
     "name": "stdout",
     "output_type": "stream",
     "text": [
      "대책없는 잠실돔구장 계획 발표…LG·두산 6년 ‘더부살이’ 분통 https://www.hani.co.kr/arti/society/society_general/1109042.html\n",
      "'총 9시간 26분 걸렸다' KT, 한화에 DH 싹쓸이…'5연패' SSG, 6위 추락 (종합... https://www.xportsnews.com/article/1771335\n",
      "[사진]박성한,'병살연결로 힘겹게 끝내는 5회' http://www.osen.co.kr/article/G1112184678\n",
      "[진영탁칼럼] 기회를 완성하는 비결 http://www.joongboo.com/news/articleView.html?idxno=363611050\n",
      "어우엘? 선수들 생각은 달랐다 \"LG 21표-KT 18표, KS 우승 초박빙\" https://www.starnewskorea.com/stview.php?no=2023083118475527335\n",
      "문동주, 118⅔이닝 2172구로 시즌 마감…“안 아팠으니 100점” https://www.hani.co.kr/arti/sports/baseball/1106925.html\n",
      "8월31일 궂긴 소식 https://www.hani.co.kr/arti/society/obituary/1106471.html\n",
      "‘8월 승률 0.818’ KT의 마법, 1위 LG 4.5경기 차 추격 https://www.hani.co.kr/arti/sports/baseball/1106017.html\n",
      "심판 살해 예고까지…야구장에 등장한 금속 탐지기 https://www.hani.co.kr/arti/society/society_general/1105974.html\n",
      "인기 되살아난 프로야구…팀 유튜브 채널 경쟁도 뜨겁다 http://www.newsis.com/view/?id=NISX20230822_0002422078&cID=50107&pID=50100\n"
     ]
    }
   ],
   "source": [
    "# for titles in soup.find_all(class_='news_tit'):\n",
    "#     print(titles.text)\n",
    "    \n",
    "for titles in soup.find_all(class_='news_tit'):\n",
    "    newsurl=titles.get(\"href\")   # href는 contents가 아니므로 gets 사용\n",
    "    print(titles.text, newsurl)  #html 태그를 제거하고 제목만 내용만 추출하기 위해 .text 사용\n"
   ]
  },
  {
   "cell_type": "code",
   "execution_count": 28,
   "id": "5c9b85ea-ab85-4a73-a301-28ff06456ff3",
   "metadata": {},
   "outputs": [],
   "source": [
    "data = []\n",
    "for i in range(1, 101, 10):\n",
    "    url = 'https://search.naver.com/search.naver?where=news&sm=tab_pge&query=%EC%97%98%EC%A7%80%ED%8A%B8%EC%9C%88%EC%8A%A4&sort=1&photo=0&field=0&pd=0&ds=&de=&mynews=0&office_type=0&office_section_code=0&news_office_checked=&office_category=0&service_area=0&nso=so:dd,p:all,a:all&start=' + str(i)\n",
    "    html = requests.get(url)\n",
    "    soup = BeautifulSoup(html.content, 'html.parser')\n",
    "\n",
    "    for titles in soup.find_all(class_='news_tit'):\n",
    "        newsurl = titles.get(\"href\")\n",
    "        newstitles = titles.text\n",
    "        data.append([newstitles, newsurl])\n",
    "\n",
    "LGtwins_news_info = pd.DataFrame(data, columns = ['news_title', 'news_url'])\n",
    "file_name = \"{}_엘지트윈스 뉴스.xlsx\".format(datetime.now().strftime(\"%y%m%d\"))\n",
    "LGtwins_news_info.to_excel(file_name, index=False)\n"
   ]
  }
 ],
 "metadata": {
  "kernelspec": {
   "display_name": "Python 3 (ipykernel)",
   "language": "python",
   "name": "python3"
  },
  "language_info": {
   "codemirror_mode": {
    "name": "ipython",
    "version": 3
   },
   "file_extension": ".py",
   "mimetype": "text/x-python",
   "name": "python",
   "nbconvert_exporter": "python",
   "pygments_lexer": "ipython3",
   "version": "3.9.13"
  }
 },
 "nbformat": 4,
 "nbformat_minor": 5
}
