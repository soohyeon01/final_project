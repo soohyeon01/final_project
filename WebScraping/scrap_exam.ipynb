{
 "cells": [
  {
   "cell_type": "code",
   "execution_count": 2,
   "id": "a8317d5a-c400-4a9a-82a4-4d6541c212fa",
   "metadata": {},
   "outputs": [],
   "source": [
    "#[출처] [#3] 파이썬 웹 스크래핑 도전(BeautifulSoup 이용)|작성자 Junho Kim\n",
    "from bs4 import BeautifulSoup\n",
    "import requests\n",
    "import pandas as pd\n",
    "from datetime import datetime"
   ]
  },
  {
   "cell_type": "code",
   "execution_count": 3,
   "id": "1c5978b0-5faa-4559-b356-06b9eaea8293",
   "metadata": {},
   "outputs": [],
   "source": [
    "url='https://search.naver.com/search.naver?where=news&sm=tab_pge&query=%EC%97%98%EC%A7%80%ED%8A%B8%EC%9C%88%EC%8A%A4&sort=1&photo=0&field=0&pd=0&ds=&de=&mynews=0&office_type=0&office_section_code=0&news_office_checked=&office_category=0&service_area=0&nso=so:dd,p:all,a:all&start=0'\n",
    "html=requests.get(url)"
   ]
  },
  {
   "cell_type": "code",
   "execution_count": 4,
   "id": "f9c26f44-793d-490d-ac7b-f72993112a2c",
   "metadata": {},
   "outputs": [],
   "source": [
    "soup=BeautifulSoup(html.content, 'html.parser')"
   ]
  },
  {
   "cell_type": "code",
   "execution_count": 5,
   "id": "c27c687a-e485-41a1-85e7-8b6e3c9c7808",
   "metadata": {},
   "outputs": [
    {
     "name": "stdout",
     "output_type": "stream",
     "text": [
      "금메달 목에 건 유명 야구선수, 오늘(8일) 깜짝 놀랄 만한 소식 전했다 (+이유... https://www.wikitree.co.kr/articles/892655\n",
      "\"엘지 우승 신문 구해봅니다\" 품절 대란에 특별판 찍은 이 신문 http://www.mediatoday.co.kr/news/articleView.html?idxno=312908\n",
      "[슬기로운 기자생활] 가짜 사인볼과 잠실야구장 https://www.hani.co.kr/arti/opinion/column/1111074.html\n",
      "[포토S] 무적엘지 외치는 켈리-임찬규 https://www.spotvnews.co.kr/news/articleView.html?idxno=635900\n",
      "‘29년 만의 정규리그 우승’ LG, 올해는 술 항아리 딸까 https://www.hani.co.kr/arti/sports/baseball/1110692.html\n",
      "LG, 29년 만의 정규리그 우승 매직넘버 ‘1’…이르면 3일 확정 https://www.hani.co.kr/arti/sports/baseball/1110596.html\n",
      "‘염 감독 퇴장’ LG, 두산에 재역전승…정규우승까지 매직넘버 ‘3’ https://www.hani.co.kr/arti/sports/baseball/1110557.html\n",
      "'더블헤더 싹쓸이' LG, 우승 가까워진다, KT에 2연속 무실점 승리 '매직넘버 ... https://www.xportsnews.com/article/1775609\n",
      "'KT 타선 봉쇄' 신바람 LG, 더블헤더 무실점 싹쓸이! 80승 선착하며 '매직넘버... https://www.xportsnews.com/article/1775602\n",
      "두산·LG 야구팬 분통에…서울시, 잠실 대체구장 협의체 구성 https://www.hani.co.kr/arti/area/capital/1110008.html\n"
     ]
    }
   ],
   "source": [
    "# for titles in soup.find_all(class_='news_tit'):\n",
    "#     print(titles.text)\n",
    "    \n",
    "for titles in soup.find_all(class_='news_tit'):\n",
    "    newsurl=titles.get(\"href\")   # href는 contents가 아니므로 gets 사용\n",
    "    print(titles.text, newsurl)  #html 태그를 제거하고 제목만 내용만 추출하기 위해 .text 사용\n"
   ]
  },
  {
   "cell_type": "code",
   "execution_count": 6,
   "id": "5c9b85ea-ab85-4a73-a301-28ff06456ff3",
   "metadata": {},
   "outputs": [],
   "source": [
    "data = []\n",
    "for i in range(1, 101, 10):\n",
    "    url = 'https://search.naver.com/search.naver?where=news&sm=tab_pge&query=%EC%97%98%EC%A7%80%ED%8A%B8%EC%9C%88%EC%8A%A4&sort=1&photo=0&field=0&pd=0&ds=&de=&mynews=0&office_type=0&office_section_code=0&news_office_checked=&office_category=0&service_area=0&nso=so:dd,p:all,a:all&start=' + str(i)\n",
    "    html = requests.get(url)\n",
    "    soup = BeautifulSoup(html.content, 'html.parser')\n",
    "\n",
    "    for titles in soup.find_all(class_='news_tit'):\n",
    "        newsurl = titles.get(\"href\")\n",
    "        newstitles = titles.text\n",
    "        data.append([newstitles, newsurl])\n",
    "\n",
    "LGtwins_news_info = pd.DataFrame(data, columns = ['news_title', 'news_url'])\n",
    "file_name = \"{}_엘지트윈스 뉴스.xlsx\".format(datetime.now().strftime(\"%y%m%d\"))\n",
    "LGtwins_news_info.to_excel(file_name, index=False)\n"
   ]
  }
 ],
 "metadata": {
  "kernelspec": {
   "display_name": "Python 3 (ipykernel)",
   "language": "python",
   "name": "python3"
  },
  "language_info": {
   "codemirror_mode": {
    "name": "ipython",
    "version": 3
   },
   "file_extension": ".py",
   "mimetype": "text/x-python",
   "name": "python",
   "nbconvert_exporter": "python",
   "pygments_lexer": "ipython3",
   "version": "3.9.13"
  }
 },
 "nbformat": 4,
 "nbformat_minor": 5
}
