{
 "cells": [
  {
   "cell_type": "code",
   "execution_count": 2,
   "id": "a8317d5a-c400-4a9a-82a4-4d6541c212fa",
   "metadata": {},
   "outputs": [],
   "source": [
    "#[출처] [#3] 파이썬 웹 스크래핑 도전(BeautifulSoup 이용)|작성자 Junho Kim\n",
    "from bs4 import BeautifulSoup\n",
    "import requests\n",
    "import pandas as pd\n",
    "from datetime import datetime"
   ]
  },
  {
   "cell_type": "code",
   "execution_count": 3,
   "id": "1c5978b0-5faa-4559-b356-06b9eaea8293",
   "metadata": {},
   "outputs": [],
   "source": [
    "url='https://search.naver.com/search.naver?where=news&query=%EC%97%98%EC%A7%80%ED%8A%B8%EC%9C%88%EC%8A%A4&sm=tab_opt&sort=1&photo=0&field=0&pd=0&ds=&de=&docid=&related=0&mynews=0&office_type=0&office_section_code=0&news_office_checked=&nso=so%3Add%2Cp%3Aall&is_sug_officeid=0&office_category=0&service_area=0'\n",
    "html=requests.get(url)"
   ]
  },
  {
   "cell_type": "code",
   "execution_count": 4,
   "id": "f9c26f44-793d-490d-ac7b-f72993112a2c",
   "metadata": {},
   "outputs": [],
   "source": [
    "soup=BeautifulSoup(html.content, 'html.parser')"
   ]
  },
  {
   "cell_type": "code",
   "execution_count": 5,
   "id": "c27c687a-e485-41a1-85e7-8b6e3c9c7808",
   "metadata": {},
   "outputs": [
    {
     "name": "stdout",
     "output_type": "stream",
     "text": [
      "대체구장 없는 잠실돔구장 계획 발표…LG·두산은 6년간 떠돌라고? https://www.hani.co.kr/arti/society/society_general/1109042.html\n",
      "'총 9시간 26분 걸렸다' KT, 한화에 DH 싹쓸이…'5연패' SSG, 6위 추락 (종합... https://www.xportsnews.com/article/1771335\n",
      "[사진]박성한,'병살연결로 힘겹게 끝내는 5회' http://www.osen.co.kr/article/G1112184678\n",
      "[진영탁칼럼] 기회를 완성하는 비결 http://www.joongboo.com/news/articleView.html?idxno=363611050\n",
      "어우엘? 선수들 생각은 달랐다 \"LG 21표-KT 18표, KS 우승 초박빙\" https://www.starnewskorea.com/stview.php?no=2023083118475527335\n",
      "문동주, 118⅔이닝 2172구로 시즌 마감…“안 아팠으니 100점” https://www.hani.co.kr/arti/sports/baseball/1106925.html\n",
      "8월31일 궂긴 소식 https://www.hani.co.kr/arti/society/obituary/1106471.html\n",
      "‘8월 승률 0.818’ KT의 마법, 1위 LG 4.5경기 차 추격 https://www.hani.co.kr/arti/sports/baseball/1106017.html\n",
      "심판 살해 예고까지…야구장에 등장한 금속 탐지기 https://www.hani.co.kr/arti/society/society_general/1105974.html\n",
      "인기 되살아난 프로야구…팀 유튜브 채널 경쟁도 뜨겁다 http://www.newsis.com/view/?id=NISX20230822_0002422078&cID=50107&pID=50100\n"
     ]
    }
   ],
   "source": [
    "# for titles in soup.find_all(class_='news_tit'):\n",
    "#     print(titles.text)\n",
    "    \n",
    "for titles in soup.find_all(class_='news_tit'):\n",
    "    newsurl=titles.get(\"href\")   # href는 contents가 아니므로 gets 사용\n",
    "    print(titles.text, newsurl)  #html 태그를 제거하고 제목만 내용만 추출하기 위해 .text 사용\n"
   ]
  },
  {
   "cell_type": "code",
   "execution_count": 14,
   "id": "5c9b85ea-ab85-4a73-a301-28ff06456ff3",
   "metadata": {},
   "outputs": [],
   "source": [
    "data=[] # 빈 엑셀 워크시트처럼, 'data'라는 이름으로 빈 리스트 창 하나 만들어 놓기\n",
    "\n",
    "for i in range(1, 101, 10):  # i라는 곳에 1부터 101까지를 대입하되, 10단위로 건너뛰면서 진행\n",
    "    url='https://search.naver.com/search.naver?where=news&sm=tab_pge&query=%EC%97%98%EC%A7%80%ED%8A%B8%EC%9C%88%EC%8A%A4&sort=1&photo=0&field=0&pd=0&ds=&de=&mynews=0&office_type=0&office_section_code=0&news_office_checked=&office_category=0&service_area=0&nso=so:dd,p:all,a:all&start='+str(i)  # url 끝에 i를 string 타입으로 변환하여 합친 형태임\n",
    "    html=requests.get(url)\n",
    "    soup=BeautifulSoup(html.content, 'html.parser')\n",
    "\n",
    "for titles in soup.find_all(class_='news_tit'):\n",
    "    newsurl=titles.get(\"href\")\n",
    "    newstitles=titles.text\n",
    "    data.append([newstitles, newsurl]) # 추출 데이터를 타이틀과 url로 구분해 list로 만들기\n",
    "\n",
    "        # 참고: for ~ in문 안에 data.append가 속해있음. 즉 위 구문은 기사 1개씩, 10번째 페이지까지 append라는 명령을 독립적으로 수행하며 \n",
    "        # 각각의 리스트를 쌓는 구조인 것 같다. 이 때문인지는 몰라도 print(data)를 for in 문 밖에서 실행하면 기사 하나만 출력된다.\n",
    "\n",
    "LGtwins_news_info=pd.DataFrame(data, columns=['news_title', 'news_url']) # 리스트를 컬럼명 'news_title'과 'news_url'을 지닌 데이터 프레임으로 가공\n",
    "\n",
    "# 엑셀로 내보내되, 인덱스 제거. 파일명은 오늘날짜+엘지로 하기\n",
    "\n",
    "file_name = \"{}_엘지트윈스_뉴스.xlsx\".format(datetime.now().strftime(\"%y%m%d\"))\n",
    "\n",
    "# 위 코드는 file_name이라는 변수를 만들어 거기에 알맞은 코드를 할당한 것\n",
    "## 참고: {}에는 format(~~~)의 값이 string 형태로 들어가게 됨\n",
    "### datetime.now()는 시, 분, 초까지 같이 출력되지만 나는 yymmdd만 필요하여 strftime()으로 원하는 포맷으로 변경\n",
    "\n",
    "LGtwins_news_info.to_excel(file_name, index=False) \n",
    "\n",
    "# 파일 이름 및 확장자는 file name에서 설정한대로, 인덱스는 없이\n"
   ]
  }
 ],
 "metadata": {
  "kernelspec": {
   "display_name": "Python 3 (ipykernel)",
   "language": "python",
   "name": "python3"
  },
  "language_info": {
   "codemirror_mode": {
    "name": "ipython",
    "version": 3
   },
   "file_extension": ".py",
   "mimetype": "text/x-python",
   "name": "python",
   "nbconvert_exporter": "python",
   "pygments_lexer": "ipython3",
   "version": "3.9.13"
  }
 },
 "nbformat": 4,
 "nbformat_minor": 5
}
